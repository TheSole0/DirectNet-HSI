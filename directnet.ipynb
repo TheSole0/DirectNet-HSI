{
 "cells": [
  {
   "cell_type": "markdown",
   "id": "a355932c",
   "metadata": {},
   "source": [
    "# import"
   ]
  },
  {
   "cell_type": "code",
   "execution_count": null,
   "id": "18e9d1da",
   "metadata": {},
   "outputs": [],
   "source": [
    "import sys\n",
    "sys.path.append(\"/workspace/NAS/home/projects/ml_module/hsi_auto/\")\n",
    "\n",
    "from hsi_auto.utils.file_io import load_yaml\n",
    "from hsi_auto.preprocessing.dataset_split import load_all_datasets_parallel\n",
    "\n",
    "\n",
    "from direct_train import train_directnet_with_datasetlist\n",
    "from direct_predict import run_predict_direct\n",
    "from evaluate_directnet import evaluate_dataset_direct\n",
    "\n",
    "cfg = load_yaml(\"directnet_config.yaml\")\n"
   ]
  },
  {
   "cell_type": "markdown",
   "id": "387d1ca0",
   "metadata": {},
   "source": [
    "# 저장된 라벨 호출"
   ]
  },
  {
   "cell_type": "code",
   "execution_count": null,
   "id": "4a59f3e6",
   "metadata": {},
   "outputs": [],
   "source": [
    "# 원본 라벨 그대로\n",
    "dataset_list = load_all_datasets_parallel(\n",
    "    base_dir=\"/workspace/NAS/home/crew/jinho/vision/Base_dataset/250514-level4(피복관)-test\",\n",
    "    source=\"lumo\",\n",
    "    use_pseudo_label=False,          # ✅ 명시적으로 pseudo label 사용\n",
    "    normal_classes= [1,2,3,4],\n",
    "    anomaly_classes=[5],\n",
    "    ignore_classes=[0],\n",
    "    visualize=False,\n",
    "    max_workers=16\n",
    ")\n",
    "\n",
    "print(f\"✅ 전체 데이터셋 수: {len(dataset_list)}개\")\n",
    "\n",
    "# from hsi_auto.utils.plot import plot_label_overlay\n",
    "# for idx, sample in enumerate(dataset_list):\n",
    "\n",
    "#     print(f\"\\n🔍 샘플 {idx + 1} 시각화 중...\")\n",
    "#     plot_label_overlay(sample[\"corrected\"], sample[\"label\"], title=f\"Sample {idx + 1}\")\n",
    "\n",
    "\n",
    "#     print(f\"\\n🔍 샘플 {idx + 1} 시각화 중...\")\n",
    "#     plot_label_overlay(sample[\"corrected\"], sample[\"label\"], title=f\"Sample {idx + 1}\")\n",
    "\n",
    "\n"
   ]
  },
  {
   "cell_type": "markdown",
   "id": "16597932",
   "metadata": {},
   "source": [
    "# 훈련"
   ]
  },
  {
   "cell_type": "code",
   "execution_count": null,
   "id": "acd16f87",
   "metadata": {},
   "outputs": [],
   "source": [
    "augment_cfg = {\n",
    "    \"noise_prob\": 0.6,               # Gaussian 노이즈 (센서 잡음 모사)\n",
    "    \"noise_std\": 0.015,              # 노이즈 강도\n",
    "\n",
    "    \"shift_prob\": 0.2,               # 밴드 시프트 (파장 정렬 오류 모사)\n",
    "    \"max_shift\": 5,                  # 이동 범위\n",
    "\n",
    "    \"dropout_prob\": 0.3,             # 일부 밴드 결손 (센서 밴드 드롭 또는 고장 모사)\n",
    "    \"band_dropout_prob\": 0.1,        # 개별 밴드 드롭 확률\n",
    "}\n",
    "\n",
    "\n",
    "# ===== 사용 예시 =====\n",
    "cfg = load_yaml(\"directnet_config.yaml\")\n",
    "\n",
    "train_directnet_with_datasetlist(\n",
    "    config=cfg,\n",
    "    dataset_list=dataset_list,       # 사전 정규화된 dataset_list (H×W×C + new_label 포함)\n",
    "    epoches=10,                      # 반복 epoch 수 (없으면 config에서 자동 결정)\n",
    "    device=\"cuda:0\",                # 사용 디바이스\n",
    "    augment=False,                   # augmentation 여부\n",
    "    augment_params=augment_cfg      # 위에서 정의한 dict\n",
    ")"
   ]
  },
  {
   "cell_type": "code",
   "execution_count": null,
   "id": "e9383e4b",
   "metadata": {},
   "outputs": [],
   "source": [
    "import torch\n",
    "torch.cuda.empty_cache()   # PyTorch GPU 캐시 해제"
   ]
  },
  {
   "cell_type": "markdown",
   "id": "f52c6d74",
   "metadata": {},
   "source": [
    "# 평가"
   ]
  },
  {
   "cell_type": "code",
   "execution_count": null,
   "id": "20d280fa",
   "metadata": {},
   "outputs": [],
   "source": [
    "cfg[\"epochs\"] = 10  # 로그 경로 생성용(경로 맞출 때 필수)\n",
    "model_path = \"./checkpoints/MyData/DirectNet_batch_size_128_epoch_10_learning_rate_0.0001_win_out_19_gpu_ids_0/model/DirectNet_MyData_best.pt\"\n",
    "\n",
    "oa, rpt = evaluate_dataset_direct(\n",
    "    dataset_list=dataset_list,\n",
    "    config=cfg,\n",
    "    model_path=model_path,\n",
    "    device=\"cuda:0\",\n",
    "    visualize=True,\n",
    "    percentile=98,\n",
    "    save=False\n",
    ")\n",
    "\n",
    "print(\"평균 AUC:\", oa)\n",
    "for i, report in enumerate(rpt[\"sample_reports\"]):\n",
    "    print(f\"[{i}] {report['path']}\")\n",
    "    print(f\"  AUC: {report['auc']:.4f}\")\n",
    "    print(f\"  threshold: {report['threshold']:.5f}\")\n",
    "    print(f\"  n_total: {report['n_total']}, n_anomaly: {report['n_anomaly']}, n_pred_anomaly: {report['n_pred_anomaly']}\")\n",
    "    print(f\"  confusion_matrix:\\n{report['cm']}\\n\")\n"
   ]
  },
  {
   "cell_type": "markdown",
   "id": "d1d7a9f2",
   "metadata": {},
   "source": [
    "# 추론"
   ]
  },
  {
   "cell_type": "code",
   "execution_count": null,
   "id": "daa4967f",
   "metadata": {},
   "outputs": [],
   "source": [
    "cfg[\"epochs\"] = 10  # 로그 디렉토리 경로 생성용으로 사용됨\n",
    "\n",
    "results = run_predict_direct(\n",
    "    dataset_list=dataset_list,\n",
    "    config=cfg,\n",
    "    device=\"cuda:0\",\n",
    "    ckpt_tag=\"10\",            # 저장된 모델의 epoch 이름\n",
    "    visualize=True,\n",
    "    percentile=95             # 이상 판단 기준을 상위 1%로 설정\n",
    ")\n"
   ]
  },
  {
   "cell_type": "code",
   "execution_count": null,
   "id": "f4864664",
   "metadata": {},
   "outputs": [],
   "source": [
    "import torch\n",
    "torch.cuda.empty_cache()   # PyTorch GPU 캐시 해제"
   ]
  }
 ],
 "metadata": {
  "kernelspec": {
   "display_name": "directnet",
   "language": "python",
   "name": "python3"
  },
  "language_info": {
   "codemirror_mode": {
    "name": "ipython",
    "version": 3
   },
   "file_extension": ".py",
   "mimetype": "text/x-python",
   "name": "python",
   "nbconvert_exporter": "python",
   "pygments_lexer": "ipython3",
   "version": "3.9.18"
  }
 },
 "nbformat": 4,
 "nbformat_minor": 5
}
